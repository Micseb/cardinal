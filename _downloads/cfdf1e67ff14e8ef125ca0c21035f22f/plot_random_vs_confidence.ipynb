{
  "cells": [
    {
      "cell_type": "code",
      "execution_count": null,
      "metadata": {
        "collapsed": false
      },
      "outputs": [],
      "source": [
        "%matplotlib inline"
      ]
    },
    {
      "cell_type": "markdown",
      "metadata": {},
      "source": [
        "\nLowest confidence vs. Random sampling\n=====================================\n\nThe simplest way ton convince ourselves that active learning actually\nworks is to first test it on simulated data. In this example, we will\ngenerate a simple classification task and see how active learning allows\nont to converge faster toward the best result.\n\n\n"
      ]
    },
    {
      "cell_type": "markdown",
      "metadata": {},
      "source": [
        "Those are the necessary imports and initialiaztion\n\n"
      ]
    },
    {
      "cell_type": "code",
      "execution_count": null,
      "metadata": {
        "collapsed": false
      },
      "outputs": [],
      "source": [
        "from matplotlib import pyplot as plt\nimport numpy as np\n\nfrom sklearn.datasets.samples_generator import make_blobs\nfrom sklearn.svm import SVC\n\nfrom cardinAL.random import RandomSampler\nfrom cardinAL.uncertainty import ConfidenceSampler\n\n\nnp.random.seed(8)"
      ]
    },
    {
      "cell_type": "markdown",
      "metadata": {},
      "source": [
        "Parameters of our experiment:\n* _n_ is the number of points in the sumulated data\n* _batch_size_ is the number of samples that will be annotated and added to\n  the training set at each iteration\n* _n_iter_ is the number of iterations in our simulation\n\nOur simulated data is composed of 2 clusters that are very close to each other\nbut linearly separable. We use as simple SVM classifier as it is a basic classifer.\n\n"
      ]
    },
    {
      "cell_type": "code",
      "execution_count": null,
      "metadata": {
        "collapsed": false
      },
      "outputs": [],
      "source": [
        "n = 30\nbatch_size = 2\nn_iter = 6\n\nX, y = make_blobs(n_samples=n, centers=2,\n                  random_state=0, cluster_std=0.80)\n\nmodel = SVC(kernel='linear', C=1E10, probability=True)"
      ]
    },
    {
      "cell_type": "markdown",
      "metadata": {},
      "source": [
        "This helper function plots our simulated points in red and blue. The one that\nare not in the training set are faded. We also plot the linear separation\nestimated by the SVM.\n\n"
      ]
    },
    {
      "cell_type": "code",
      "execution_count": null,
      "metadata": {
        "collapsed": false
      },
      "outputs": [],
      "source": [
        "def plot(a, b, score, selected):\n    plt.xlabel('Accuracy {}%'.format(int(score * 100)), fontsize=10)\n\n    # We map our prediction to 4 values:\n    # 0 is dark blue and designates samples of class 1 in the training set\n    # 1 is dark red and designates samples of class 2 in the training set\n    # 2 is light red and designates samples of class 2 *not* in the training set\n    # 3 is light blue and designates samples of class 1 *not* in the training set\n    y_ = y.copy()\n    y_[~selected] = 3 - y_[~selected]\n\n    plt.scatter(X[:, 0], X[:, 1], c=y_, cmap='tab20')\n\n    # Plot the separation margin of the SVM\n    x_bounds = np.array([np.min(X[:, 0]), np.max(X[:, 0])])\n    plt.plot(x_bounds, a * x_bounds + b)"
      ]
    },
    {
      "cell_type": "markdown",
      "metadata": {},
      "source": [
        "Core active learning experiment\n^^^^^^^^^^^^^^^^^^^^^^^^^^^^^^^\n\nAs presented in the introduction, this loop represents the active learning\nexperiment. At each iteration, the model is learned on all labeled data to\nmeasure its performance. Then, the model is inspected to find out the samples\non which its confidence is low. This is done through cardinAL samplers.\n\n"
      ]
    },
    {
      "cell_type": "code",
      "execution_count": null,
      "metadata": {
        "collapsed": false
      },
      "outputs": [],
      "source": [
        "samplers = [\n    ('Random', RandomSampler(batch_size=batch_size, random_state=0)),\n    ('Lowest confidence', ConfidenceSampler(model, batch_size))\n]\n\nplt.figure(figsize=(10, 4))\n\nfor i, (sampler_name, sampler) in enumerate(samplers):\n    # We force having one sample in each class for the init\n    init_idx = [np.where(y == 0)[0][0], np.where(y == 1)[0][0]]\n\n    selected = np.zeros(n, dtype=bool)\n    selected[init_idx] = True\n\n    for j in range(n_iter):\n        model.fit(X[selected], y[selected])\n        sampler.fit(X[selected], y[selected])\n        w = model.coef_[0]\n        \n        plt.subplot(len(samplers), n_iter, i * n_iter + j + 1)\n        plot(-w[0] / w[1], - model.intercept_[0] / w[1], model.score(X, y), selected.copy())\n\n        new_selected = sampler.predict(X[~selected])\n        selected[~selected] = new_selected\n\n        if j == 0:\n            plt.ylabel(sampler_name)\n        plt.axis('tight')\n        plt.gca().set_xticks(())\n        plt.gca().set_yticks(())\n        if i == 0:\n            plt.gca().set_title('Iteration {}'.format(j), fontsize=10)\n\nplt.tight_layout()\nplt.subplots_adjust(top=0.86)\nplt.gcf().suptitle('Classification accuracy of random and uncertainty active learning on simulated data', fontsize=12)\nplt.show()"
      ]
    }
  ],
  "metadata": {
    "kernelspec": {
      "display_name": "Python 3",
      "language": "python",
      "name": "python3"
    },
    "language_info": {
      "codemirror_mode": {
        "name": "ipython",
        "version": 3
      },
      "file_extension": ".py",
      "mimetype": "text/x-python",
      "name": "python",
      "nbconvert_exporter": "python",
      "pygments_lexer": "ipython3",
      "version": "3.6.9"
    }
  },
  "nbformat": 4,
  "nbformat_minor": 0
}